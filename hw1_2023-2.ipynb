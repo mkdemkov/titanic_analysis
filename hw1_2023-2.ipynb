{
  "cells": [
    {
      "cell_type": "markdown",
      "metadata": {
        "id": "5GYwwlTcuJ4m"
      },
      "source": [
        "# Titanic passangers analysis"
      ]
    },
    {
      "cell_type": "markdown",
      "metadata": {
        "id": "_UfaIXGcuJ4r"
      },
      "source": [
        "You are going to work with *Titanic* dataset which contains information about passengers of Titanic:\n",
        "- **Survived** - 1 - survived, 0 - died (0); **Target variable**\n",
        "- **pclass** - passengers's class;\n",
        "- **sex** - passengers's sex\n",
        "- **Age** - passengers's age in years\n",
        "- **sibsp**    - is the passenger someones siblings   \n",
        "- **parch**    - is the passenger someones child or parent\n",
        "- **ticket** - ticket number    \n",
        "- **fare** - ticket price    \n",
        "- **cabin** - cabin number\n",
        "- **embarked** - port of Embarkation; C = Cherbourg, Q = Queenstown, S = Southampton\n",
        "\n",
        "**Note** for all visualizations use matplotlib or seaborn but NOT plotly! Plotly's graphics sometimes vanish after saving. In this case the task won't be graded.\n",
        "\n",
        "**Note** support all your answers with necessary code, computations, vizualization, and explanation. Answers without code and explanation won't be graded.\n",
        "\n",
        "**Task 0** (0 points) \\\n",
        "Load the dataset and print first 6 rows"
      ]
    },
    {
      "cell_type": "code",
      "execution_count": null,
      "metadata": {},
      "outputs": [],
      "source": [
        "%matplotlib inline\n",
        "import numpy as np\n",
        "import pandas as pd\n",
        "import matplotlib.pyplot as plt\n",
        "import seaborn as sns"
      ]
    },
    {
      "cell_type": "code",
      "execution_count": 74,
      "metadata": {
        "colab": {
          "base_uri": "https://localhost:8080/",
          "height": 235
        },
        "id": "92IDku0HuJ4r",
        "outputId": "d410ec2d-e05f-4ff5-8aa0-bd853107cf24"
      },
      "outputs": [
        {
          "data": {
            "text/html": [
              "\n",
              "  <div id=\"df-c07b2b55-3ebe-4627-b276-ef27dc929c65\" class=\"colab-df-container\">\n",
              "    <div>\n",
              "<style scoped>\n",
              "    .dataframe tbody tr th:only-of-type {\n",
              "        vertical-align: middle;\n",
              "    }\n",
              "\n",
              "    .dataframe tbody tr th {\n",
              "        vertical-align: top;\n",
              "    }\n",
              "\n",
              "    .dataframe thead th {\n",
              "        text-align: right;\n",
              "    }\n",
              "</style>\n",
              "<table border=\"1\" class=\"dataframe\">\n",
              "  <thead>\n",
              "    <tr style=\"text-align: right;\">\n",
              "      <th></th>\n",
              "      <th>PassengerId</th>\n",
              "      <th>Survived</th>\n",
              "      <th>Pclass</th>\n",
              "      <th>Name</th>\n",
              "      <th>Sex</th>\n",
              "      <th>Age</th>\n",
              "      <th>SibSp</th>\n",
              "      <th>Parch</th>\n",
              "      <th>Ticket</th>\n",
              "      <th>Fare</th>\n",
              "      <th>Cabin</th>\n",
              "      <th>Embarked</th>\n",
              "    </tr>\n",
              "  </thead>\n",
              "  <tbody>\n",
              "    <tr>\n",
              "      <th>0</th>\n",
              "      <td>1</td>\n",
              "      <td>0</td>\n",
              "      <td>3</td>\n",
              "      <td>Braund, Mr. Owen Harris</td>\n",
              "      <td>male</td>\n",
              "      <td>22.0</td>\n",
              "      <td>1</td>\n",
              "      <td>0</td>\n",
              "      <td>A/5 21171</td>\n",
              "      <td>7.2500</td>\n",
              "      <td>NaN</td>\n",
              "      <td>S</td>\n",
              "    </tr>\n",
              "    <tr>\n",
              "      <th>1</th>\n",
              "      <td>2</td>\n",
              "      <td>1</td>\n",
              "      <td>1</td>\n",
              "      <td>Cumings, Mrs. John Bradley (Florence Briggs Th...</td>\n",
              "      <td>female</td>\n",
              "      <td>38.0</td>\n",
              "      <td>1</td>\n",
              "      <td>0</td>\n",
              "      <td>PC 17599</td>\n",
              "      <td>71.2833</td>\n",
              "      <td>C85</td>\n",
              "      <td>C</td>\n",
              "    </tr>\n",
              "    <tr>\n",
              "      <th>2</th>\n",
              "      <td>3</td>\n",
              "      <td>1</td>\n",
              "      <td>3</td>\n",
              "      <td>Heikkinen, Miss. Laina</td>\n",
              "      <td>female</td>\n",
              "      <td>26.0</td>\n",
              "      <td>0</td>\n",
              "      <td>0</td>\n",
              "      <td>STON/O2. 3101282</td>\n",
              "      <td>7.9250</td>\n",
              "      <td>NaN</td>\n",
              "      <td>S</td>\n",
              "    </tr>\n",
              "    <tr>\n",
              "      <th>3</th>\n",
              "      <td>4</td>\n",
              "      <td>1</td>\n",
              "      <td>1</td>\n",
              "      <td>Futrelle, Mrs. Jacques Heath (Lily May Peel)</td>\n",
              "      <td>female</td>\n",
              "      <td>35.0</td>\n",
              "      <td>1</td>\n",
              "      <td>0</td>\n",
              "      <td>113803</td>\n",
              "      <td>53.1000</td>\n",
              "      <td>C123</td>\n",
              "      <td>S</td>\n",
              "    </tr>\n",
              "    <tr>\n",
              "      <th>4</th>\n",
              "      <td>5</td>\n",
              "      <td>0</td>\n",
              "      <td>3</td>\n",
              "      <td>Allen, Mr. William Henry</td>\n",
              "      <td>male</td>\n",
              "      <td>35.0</td>\n",
              "      <td>0</td>\n",
              "      <td>0</td>\n",
              "      <td>373450</td>\n",
              "      <td>8.0500</td>\n",
              "      <td>NaN</td>\n",
              "      <td>S</td>\n",
              "    </tr>\n",
              "    <tr>\n",
              "      <th>5</th>\n",
              "      <td>6</td>\n",
              "      <td>0</td>\n",
              "      <td>3</td>\n",
              "      <td>Moran, Mr. James</td>\n",
              "      <td>male</td>\n",
              "      <td>NaN</td>\n",
              "      <td>0</td>\n",
              "      <td>0</td>\n",
              "      <td>330877</td>\n",
              "      <td>8.4583</td>\n",
              "      <td>NaN</td>\n",
              "      <td>Q</td>\n",
              "    </tr>\n",
              "  </tbody>\n",
              "</table>\n",
              "</div>\n",
              "    <div class=\"colab-df-buttons\">\n",
              "\n",
              "  <div class=\"colab-df-container\">\n",
              "    <button class=\"colab-df-convert\" onclick=\"convertToInteractive('df-c07b2b55-3ebe-4627-b276-ef27dc929c65')\"\n",
              "            title=\"Convert this dataframe to an interactive table.\"\n",
              "            style=\"display:none;\">\n",
              "\n",
              "  <svg xmlns=\"http://www.w3.org/2000/svg\" height=\"24px\" viewBox=\"0 -960 960 960\">\n",
              "    <path d=\"M120-120v-720h720v720H120Zm60-500h600v-160H180v160Zm220 220h160v-160H400v160Zm0 220h160v-160H400v160ZM180-400h160v-160H180v160Zm440 0h160v-160H620v160ZM180-180h160v-160H180v160Zm440 0h160v-160H620v160Z\"/>\n",
              "  </svg>\n",
              "    </button>\n",
              "\n",
              "  <style>\n",
              "    .colab-df-container {\n",
              "      display:flex;\n",
              "      gap: 12px;\n",
              "    }\n",
              "\n",
              "    .colab-df-convert {\n",
              "      background-color: #E8F0FE;\n",
              "      border: none;\n",
              "      border-radius: 50%;\n",
              "      cursor: pointer;\n",
              "      display: none;\n",
              "      fill: #1967D2;\n",
              "      height: 32px;\n",
              "      padding: 0 0 0 0;\n",
              "      width: 32px;\n",
              "    }\n",
              "\n",
              "    .colab-df-convert:hover {\n",
              "      background-color: #E2EBFA;\n",
              "      box-shadow: 0px 1px 2px rgba(60, 64, 67, 0.3), 0px 1px 3px 1px rgba(60, 64, 67, 0.15);\n",
              "      fill: #174EA6;\n",
              "    }\n",
              "\n",
              "    .colab-df-buttons div {\n",
              "      margin-bottom: 4px;\n",
              "    }\n",
              "\n",
              "    [theme=dark] .colab-df-convert {\n",
              "      background-color: #3B4455;\n",
              "      fill: #D2E3FC;\n",
              "    }\n",
              "\n",
              "    [theme=dark] .colab-df-convert:hover {\n",
              "      background-color: #434B5C;\n",
              "      box-shadow: 0px 1px 3px 1px rgba(0, 0, 0, 0.15);\n",
              "      filter: drop-shadow(0px 1px 2px rgba(0, 0, 0, 0.3));\n",
              "      fill: #FFFFFF;\n",
              "    }\n",
              "  </style>\n",
              "\n",
              "    <script>\n",
              "      const buttonEl =\n",
              "        document.querySelector('#df-c07b2b55-3ebe-4627-b276-ef27dc929c65 button.colab-df-convert');\n",
              "      buttonEl.style.display =\n",
              "        google.colab.kernel.accessAllowed ? 'block' : 'none';\n",
              "\n",
              "      async function convertToInteractive(key) {\n",
              "        const element = document.querySelector('#df-c07b2b55-3ebe-4627-b276-ef27dc929c65');\n",
              "        const dataTable =\n",
              "          await google.colab.kernel.invokeFunction('convertToInteractive',\n",
              "                                                    [key], {});\n",
              "        if (!dataTable) return;\n",
              "\n",
              "        const docLinkHtml = 'Like what you see? Visit the ' +\n",
              "          '<a target=\"_blank\" href=https://colab.research.google.com/notebooks/data_table.ipynb>data table notebook</a>'\n",
              "          + ' to learn more about interactive tables.';\n",
              "        element.innerHTML = '';\n",
              "        dataTable['output_type'] = 'display_data';\n",
              "        await google.colab.output.renderOutput(dataTable, element);\n",
              "        const docLink = document.createElement('div');\n",
              "        docLink.innerHTML = docLinkHtml;\n",
              "        element.appendChild(docLink);\n",
              "      }\n",
              "    </script>\n",
              "  </div>\n",
              "\n",
              "\n",
              "<div id=\"df-1683ae24-8823-450a-9d41-c2ac0aeae262\">\n",
              "  <button class=\"colab-df-quickchart\" onclick=\"quickchart('df-1683ae24-8823-450a-9d41-c2ac0aeae262')\"\n",
              "            title=\"Suggest charts.\"\n",
              "            style=\"display:none;\">\n",
              "\n",
              "<svg xmlns=\"http://www.w3.org/2000/svg\" height=\"24px\"viewBox=\"0 0 24 24\"\n",
              "     width=\"24px\">\n",
              "    <g>\n",
              "        <path d=\"M19 3H5c-1.1 0-2 .9-2 2v14c0 1.1.9 2 2 2h14c1.1 0 2-.9 2-2V5c0-1.1-.9-2-2-2zM9 17H7v-7h2v7zm4 0h-2V7h2v10zm4 0h-2v-4h2v4z\"/>\n",
              "    </g>\n",
              "</svg>\n",
              "  </button>\n",
              "\n",
              "<style>\n",
              "  .colab-df-quickchart {\n",
              "      --bg-color: #E8F0FE;\n",
              "      --fill-color: #1967D2;\n",
              "      --hover-bg-color: #E2EBFA;\n",
              "      --hover-fill-color: #174EA6;\n",
              "      --disabled-fill-color: #AAA;\n",
              "      --disabled-bg-color: #DDD;\n",
              "  }\n",
              "\n",
              "  [theme=dark] .colab-df-quickchart {\n",
              "      --bg-color: #3B4455;\n",
              "      --fill-color: #D2E3FC;\n",
              "      --hover-bg-color: #434B5C;\n",
              "      --hover-fill-color: #FFFFFF;\n",
              "      --disabled-bg-color: #3B4455;\n",
              "      --disabled-fill-color: #666;\n",
              "  }\n",
              "\n",
              "  .colab-df-quickchart {\n",
              "    background-color: var(--bg-color);\n",
              "    border: none;\n",
              "    border-radius: 50%;\n",
              "    cursor: pointer;\n",
              "    display: none;\n",
              "    fill: var(--fill-color);\n",
              "    height: 32px;\n",
              "    padding: 0;\n",
              "    width: 32px;\n",
              "  }\n",
              "\n",
              "  .colab-df-quickchart:hover {\n",
              "    background-color: var(--hover-bg-color);\n",
              "    box-shadow: 0 1px 2px rgba(60, 64, 67, 0.3), 0 1px 3px 1px rgba(60, 64, 67, 0.15);\n",
              "    fill: var(--button-hover-fill-color);\n",
              "  }\n",
              "\n",
              "  .colab-df-quickchart-complete:disabled,\n",
              "  .colab-df-quickchart-complete:disabled:hover {\n",
              "    background-color: var(--disabled-bg-color);\n",
              "    fill: var(--disabled-fill-color);\n",
              "    box-shadow: none;\n",
              "  }\n",
              "\n",
              "  .colab-df-spinner {\n",
              "    border: 2px solid var(--fill-color);\n",
              "    border-color: transparent;\n",
              "    border-bottom-color: var(--fill-color);\n",
              "    animation:\n",
              "      spin 1s steps(1) infinite;\n",
              "  }\n",
              "\n",
              "  @keyframes spin {\n",
              "    0% {\n",
              "      border-color: transparent;\n",
              "      border-bottom-color: var(--fill-color);\n",
              "      border-left-color: var(--fill-color);\n",
              "    }\n",
              "    20% {\n",
              "      border-color: transparent;\n",
              "      border-left-color: var(--fill-color);\n",
              "      border-top-color: var(--fill-color);\n",
              "    }\n",
              "    30% {\n",
              "      border-color: transparent;\n",
              "      border-left-color: var(--fill-color);\n",
              "      border-top-color: var(--fill-color);\n",
              "      border-right-color: var(--fill-color);\n",
              "    }\n",
              "    40% {\n",
              "      border-color: transparent;\n",
              "      border-right-color: var(--fill-color);\n",
              "      border-top-color: var(--fill-color);\n",
              "    }\n",
              "    60% {\n",
              "      border-color: transparent;\n",
              "      border-right-color: var(--fill-color);\n",
              "    }\n",
              "    80% {\n",
              "      border-color: transparent;\n",
              "      border-right-color: var(--fill-color);\n",
              "      border-bottom-color: var(--fill-color);\n",
              "    }\n",
              "    90% {\n",
              "      border-color: transparent;\n",
              "      border-bottom-color: var(--fill-color);\n",
              "    }\n",
              "  }\n",
              "</style>\n",
              "\n",
              "  <script>\n",
              "    async function quickchart(key) {\n",
              "      const quickchartButtonEl =\n",
              "        document.querySelector('#' + key + ' button');\n",
              "      quickchartButtonEl.disabled = true;  // To prevent multiple clicks.\n",
              "      quickchartButtonEl.classList.add('colab-df-spinner');\n",
              "      try {\n",
              "        const charts = await google.colab.kernel.invokeFunction(\n",
              "            'suggestCharts', [key], {});\n",
              "      } catch (error) {\n",
              "        console.error('Error during call to suggestCharts:', error);\n",
              "      }\n",
              "      quickchartButtonEl.classList.remove('colab-df-spinner');\n",
              "      quickchartButtonEl.classList.add('colab-df-quickchart-complete');\n",
              "    }\n",
              "    (() => {\n",
              "      let quickchartButtonEl =\n",
              "        document.querySelector('#df-1683ae24-8823-450a-9d41-c2ac0aeae262 button');\n",
              "      quickchartButtonEl.style.display =\n",
              "        google.colab.kernel.accessAllowed ? 'block' : 'none';\n",
              "    })();\n",
              "  </script>\n",
              "</div>\n",
              "    </div>\n",
              "  </div>\n"
            ],
            "text/plain": [
              "   PassengerId  Survived  Pclass  \\\n",
              "0            1         0       3   \n",
              "1            2         1       1   \n",
              "2            3         1       3   \n",
              "3            4         1       1   \n",
              "4            5         0       3   \n",
              "5            6         0       3   \n",
              "\n",
              "                                                Name     Sex   Age  SibSp  \\\n",
              "0                            Braund, Mr. Owen Harris    male  22.0      1   \n",
              "1  Cumings, Mrs. John Bradley (Florence Briggs Th...  female  38.0      1   \n",
              "2                             Heikkinen, Miss. Laina  female  26.0      0   \n",
              "3       Futrelle, Mrs. Jacques Heath (Lily May Peel)  female  35.0      1   \n",
              "4                           Allen, Mr. William Henry    male  35.0      0   \n",
              "5                                   Moran, Mr. James    male   NaN      0   \n",
              "\n",
              "   Parch            Ticket     Fare Cabin Embarked  \n",
              "0      0         A/5 21171   7.2500   NaN        S  \n",
              "1      0          PC 17599  71.2833   C85        C  \n",
              "2      0  STON/O2. 3101282   7.9250   NaN        S  \n",
              "3      0            113803  53.1000  C123        S  \n",
              "4      0            373450   8.0500   NaN        S  \n",
              "5      0            330877   8.4583   NaN        Q  "
            ]
          },
          "execution_count": 74,
          "metadata": {},
          "output_type": "execute_result"
        }
      ],
      "source": [
        "dataset = pd.read_csv('titanic.csv')\n",
        "dataset.head(6)"
      ]
    },
    {
      "cell_type": "markdown",
      "metadata": {
        "id": "0FeAHgZtuJ4r"
      },
      "source": [
        "**Task 1** (1 points) <br/>\n",
        "Answer the following questions:\n",
        "    \n",
        "    * Are there any missing values? In what columns?\n",
        "    * What is the percentage of survived passengers? Are the classes balanced?\n",
        "    * Were there more males or females?\n",
        "    * What was the least popular port of embarkation?\n",
        "    * How many passenger classes (pclass) were there on Tinanic?\n",
        "    * What is the overall average ticket fare? And for every passenger class?\n",
        "Please, write not only the answers but the code, proving it."
      ]
    },
    {
      "cell_type": "code",
      "execution_count": 75,
      "metadata": {
        "colab": {
          "base_uri": "https://localhost:8080/"
        },
        "id": "4PizO86UuJ4r",
        "outputId": "6a5f3655-0142-4378-b7bb-cff456373421"
      },
      "outputs": [
        {
          "name": "stdout",
          "output_type": "stream",
          "text": [
            "<class 'pandas.core.frame.DataFrame'>\n",
            "RangeIndex: 891 entries, 0 to 890\n",
            "Data columns (total 12 columns):\n",
            " #   Column       Non-Null Count  Dtype  \n",
            "---  ------       --------------  -----  \n",
            " 0   PassengerId  891 non-null    int64  \n",
            " 1   Survived     891 non-null    int64  \n",
            " 2   Pclass       891 non-null    int64  \n",
            " 3   Name         891 non-null    object \n",
            " 4   Sex          891 non-null    object \n",
            " 5   Age          714 non-null    float64\n",
            " 6   SibSp        891 non-null    int64  \n",
            " 7   Parch        891 non-null    int64  \n",
            " 8   Ticket       891 non-null    object \n",
            " 9   Fare         891 non-null    float64\n",
            " 10  Cabin        204 non-null    object \n",
            " 11  Embarked     889 non-null    object \n",
            "dtypes: float64(2), int64(5), object(5)\n",
            "memory usage: 83.7+ KB\n"
          ]
        }
      ],
      "source": [
        "dataset.info() # выведем информацию о колонках"
      ]
    },
    {
      "cell_type": "markdown",
      "metadata": {
        "id": "8jnfAQfGssXU"
      },
      "source": [
        "## Are there any missing values? In what columns?\n",
        "Заметим, что всего у нас 891 запись в датасете. Также мы видим информацию о значениях во всех колонках. Там, где non-null значений не 891 присутствуют null значения.\n",
        "\n",
        "Таким образом, пропуски есть в следующих колонках: **Age**, **Cabin**, **Embarked**\n",
        "## What is the percentage of survived passengers? Are the classes balanced?\n"
      ]
    },
    {
      "cell_type": "code",
      "execution_count": 77,
      "metadata": {
        "colab": {
          "base_uri": "https://localhost:8080/"
        },
        "id": "B8_4TNyxucI4",
        "outputId": "e8632d54-b5e8-4630-88b1-ba2bd0d1fdb0"
      },
      "outputs": [
        {
          "data": {
            "text/plain": [
              "38.38383838383838"
            ]
          },
          "execution_count": 77,
          "metadata": {},
          "output_type": "execute_result"
        }
      ],
      "source": [
        "percentage_of_survived = (dataset['Survived'].sum() / dataset['Survived'].count()) * 100\n",
        "percentage_of_survived"
      ]
    },
    {
      "cell_type": "markdown",
      "metadata": {
        "id": "h3wJh5R4u1Rw"
      },
      "source": [
        "Поскольку в данном датасете Survived принимает только 2 значения 0 и 1 найдем процент выживших поделив сумму на количество (и помножив на 100)\n",
        "\n",
        "**Процент выживших: 38.38383838383838**"
      ]
    },
    {
      "cell_type": "code",
      "execution_count": 82,
      "metadata": {
        "colab": {
          "base_uri": "https://localhost:8080/"
        },
        "id": "Yzl2yvB4vIKY",
        "outputId": "d6afdb1e-2979-4744-f0d0-01bd2f52bfd0"
      },
      "outputs": [
        {
          "name": "stdout",
          "output_type": "stream",
          "text": [
            "Class 3: 55.106621773288445%\n",
            "Class 1: 24.242424242424242%\n",
            "Class 2: 20.65095398428732%\n"
          ]
        }
      ],
      "source": [
        "class_count = dataset['Pclass'].value_counts()\n",
        "total_count = dataset['Pclass'].count()\n",
        "\n",
        "for pclass, count in class_count.items():\n",
        "  print(f'Class {pclass}: {count / total_count * 100}%')"
      ]
    },
    {
      "cell_type": "markdown",
      "metadata": {
        "id": "_gDcPT0Dxfno"
      },
      "source": [
        "Видим, что представителей класса 3 более половины, в то время как людей, принадлежащих 1 и 2 классу примерно одинаково. **Из этого можно сделать вывод, что классы пассажиров несбалансированы**\n",
        "## Were there more males or females?"
      ]
    },
    {
      "cell_type": "code",
      "execution_count": 83,
      "metadata": {
        "colab": {
          "base_uri": "https://localhost:8080/"
        },
        "id": "CJx5XtWTxzC5",
        "outputId": "9a9bcb80-daa2-452e-e7e0-5db590cf2ff2"
      },
      "outputs": [
        {
          "name": "stdout",
          "output_type": "stream",
          "text": [
            "male: 577\n",
            "female: 314\n"
          ]
        }
      ],
      "source": [
        "gender_count = dataset['Sex'].value_counts()\n",
        "\n",
        "for gender, count in gender_count.items():\n",
        "  print(f'{gender}: {count}')"
      ]
    },
    {
      "cell_type": "markdown",
      "metadata": {
        "id": "KpLDOK8CyHJ1"
      },
      "source": [
        "**Мужчин больше чем женщин**\n",
        "## What was the least popular port of embarkation?"
      ]
    },
    {
      "cell_type": "code",
      "execution_count": 84,
      "metadata": {
        "colab": {
          "base_uri": "https://localhost:8080/"
        },
        "id": "JK5rgJyhyTe8",
        "outputId": "e2bad067-8009-473f-e02c-b043068fa0ad"
      },
      "outputs": [
        {
          "name": "stdout",
          "output_type": "stream",
          "text": [
            "The least popular port of embarkation was Q\n"
          ]
        }
      ],
      "source": [
        "embarkation_count = dataset['Embarked'].value_counts()\n",
        "\n",
        "least_popular_port = embarkation_count.idxmin()\n",
        "print(f'The least popular port of embarkation was {least_popular_port}')"
      ]
    },
    {
      "cell_type": "markdown",
      "metadata": {
        "id": "zRzhW6pdytEJ"
      },
      "source": [
        "**Наименее популярный порт - Q**\n",
        "## How many passenger classes (pclass) were there on Tinanic?"
      ]
    },
    {
      "cell_type": "code",
      "execution_count": 85,
      "metadata": {
        "colab": {
          "base_uri": "https://localhost:8080/"
        },
        "id": "N8q6axCYzCmj",
        "outputId": "2785fccf-617b-4b84-8e68-312b405a756e"
      },
      "outputs": [
        {
          "name": "stdout",
          "output_type": "stream",
          "text": [
            "Число классов среди пассажиров: 3\n"
          ]
        }
      ],
      "source": [
        "passanger_classes_count = dataset['Pclass'].nunique()\n",
        "print(f'Число классов среди пассажиров: {passanger_classes_count}')"
      ]
    },
    {
      "cell_type": "markdown",
      "metadata": {
        "id": "UR76vr1MzX2v"
      },
      "source": [
        "**Число классов среди пассажиров: 3**\n",
        "## What is the overall average ticket fare? And for every passenger class?"
      ]
    },
    {
      "cell_type": "code",
      "execution_count": 86,
      "metadata": {
        "colab": {
          "base_uri": "https://localhost:8080/"
        },
        "id": "ZggtYDwZzdp1",
        "outputId": "c5d4bcb1-df4e-4525-8bd1-0d06dc65d000"
      },
      "outputs": [
        {
          "name": "stdout",
          "output_type": "stream",
          "text": [
            "32.204207968574636\n"
          ]
        }
      ],
      "source": [
        "average_fare = dataset['Fare'].mean()\n",
        "print(average_fare)"
      ]
    },
    {
      "cell_type": "code",
      "execution_count": 87,
      "metadata": {
        "colab": {
          "base_uri": "https://localhost:8080/"
        },
        "id": "a969IRpjzrJl",
        "outputId": "63dad447-e164-44f0-cfcc-c63fec9d208b"
      },
      "outputs": [
        {
          "name": "stdout",
          "output_type": "stream",
          "text": [
            "Pclass\n",
            "1    84.154687\n",
            "2    20.662183\n",
            "3    13.675550\n",
            "Name: Fare, dtype: float64\n"
          ]
        }
      ],
      "source": [
        "average_fare_for_class = dataset.groupby('Pclass')['Fare'].mean()\n",
        "print(average_fare_for_class)"
      ]
    },
    {
      "cell_type": "markdown",
      "metadata": {
        "id": "fczo3_wPz93C"
      },
      "source": [
        "**Средняя цена на билет составляла 32.20 тысячи долларов (?предполгаю цена в тыс.долларах).**\n",
        "\n",
        "**Средняя цена на билеты всех классов(тыс. долларов):**\n",
        "\n",
        "1: 84.15\n",
        "\n",
        "2: 20.66\n",
        "\n",
        "3: 13.68"
      ]
    },
    {
      "cell_type": "markdown",
      "metadata": {
        "id": "s9bfz5KbuJ4r"
      },
      "source": [
        "**Task 2** (0.5 points) <br/>\n",
        "Visualize age distribution (you may use a histogram, for example).\n",
        "\n",
        "    * What is the minimal and maximum ages of the passengers? Visualize it on the plot\n",
        "    * What is the median age? And among males and females separately? Visualize it on the separate plot\n",
        "    * Make conclusions about what you see on the plots"
      ]
    },
    {
      "cell_type": "markdown",
      "metadata": {
        "id": "MbsAXahP0zlj"
      },
      "source": [
        "## What is the minimal and maximum ages of the passengers? Visualize it on the plot"
      ]
    },
    {
      "cell_type": "code",
      "execution_count": 89,
      "metadata": {
        "colab": {
          "base_uri": "https://localhost:8080/",
          "height": 444
        },
        "id": "q19UF2SHuJ41",
        "outputId": "14dc99c3-087b-4db7-cd5e-6b452951793d"
      },
      "outputs": [
        {
          "data": {
            "image/png": "[encoded data removed]",
            "text/plain": [
              "<Figure size 800x400 with 1 Axes>"
            ]
          },
          "metadata": {},
          "output_type": "display_data"
        },
        {
          "name": "stdout",
          "output_type": "stream",
          "text": [
            "Наименьший возраст пассажира: 0.42\n",
            "Наибольший возраст пассажира: 80.0\n"
          ]
        }
      ],
      "source": [
        "min_age = dataset['Age'].min()\n",
        "max_age = dataset['Age'].max()\n",
        "\n",
        "plt.figure(figsize=(8, 4))\n",
        "plt.hist(dataset['Age'], bins=20, color='skyblue', edgecolor='black')\n",
        "plt.title('Распределение возраста пассажиров')\n",
        "plt.xlabel('Возраст')\n",
        "plt.ylabel('Количество')\n",
        "plt.axvline(min_age, color='red', linestyle='dashed', linewidth=2, label=f'Наименьший возраст: {min_age}')\n",
        "plt.axvline(max_age, color='green', linestyle='dashed', linewidth=2, label=f'Наибольший возраст: {max_age}')\n",
        "plt.legend()\n",
        "plt.show()\n",
        "\n",
        "print(f\"Наименьший возраст пассажира: {min_age}\")\n",
        "print(f\"Наибольший возраст пассажира: {max_age}\")"
      ]
    },
    {
      "cell_type": "markdown",
      "metadata": {
        "id": "08h-iD3q1axq"
      },
      "source": [
        "## What is the median age? And among males and females separately? Visualize it on the separate plot"
      ]
    },
    {
      "cell_type": "code",
      "execution_count": 91,
      "metadata": {
        "colab": {
          "base_uri": "https://localhost:8080/",
          "height": 538
        },
        "id": "NT8pXNFz1b5A",
        "outputId": "1d9a7bf9-97e0-4100-ba26-964977e038a7"
      },
      "outputs": [
        {
          "data": {
            "image/png": "[encoded data removed]",
            "text/plain": [
              "<Figure size 640x480 with 2 Axes>"
            ]
          },
          "metadata": {},
          "output_type": "display_data"
        },
        {
          "name": "stdout",
          "output_type": "stream",
          "text": [
            "Общая медиана возраста: 28.0\n",
            "Медиана возраста для мужчин: 29.0\n",
            "Медиана возраста для женщин: 27.0\n"
          ]
        }
      ],
      "source": [
        "median_age = dataset['Age'].median()\n",
        "median_age_male = dataset[dataset['Sex'] == 'male']['Age'].median()\n",
        "median_age_female = dataset[dataset['Sex'] == 'female']['Age'].median()\n",
        "\n",
        "# График для мужчин\n",
        "plt.subplot(1, 2, 1)\n",
        "plt.hist(dataset[dataset['Sex'] == 'male']['Age'], bins=20, color='blue', edgecolor='black')\n",
        "plt.title('Распределение возраста мужчин')\n",
        "plt.xlabel('Возраст')\n",
        "plt.ylabel('Количество')\n",
        "plt.axvline(median_age_male, color='red', linestyle='dashed', linewidth=2, label=f'Медиана возраста: {median_age_male}')\n",
        "plt.legend()\n",
        "\n",
        "# График для женщин\n",
        "plt.subplot(1, 2, 2)\n",
        "plt.hist(dataset[dataset['Sex'] == 'female']['Age'], bins=20, color='pink', edgecolor='black')\n",
        "plt.title('Распределение возраста женщин')\n",
        "plt.xlabel('Возраст')\n",
        "plt.ylabel('Количество')\n",
        "plt.axvline(median_age_female, color='red', linestyle='dashed', linewidth=2, label=f'Медиана возраста: {median_age_female}')\n",
        "plt.legend()\n",
        "\n",
        "plt.tight_layout()\n",
        "plt.show()\n",
        "\n",
        "print(f\"Общая медиана возраста: {median_age}\")\n",
        "print(f\"Медиана возраста для мужчин: {median_age_male}\")\n",
        "print(f\"Медиана возраста для женщин: {median_age_female}\")"
      ]
    },
    {
      "cell_type": "markdown",
      "metadata": {
        "id": "YXhaE8Sc2XTX"
      },
      "source": [
        "## Общий вывод по графикам\n",
        "Глядя на построенные графики можно сделать вывод, что большая часть пассажиров - представители среднего возраста (скажу от 20 до 45). Среди мужчин было больше возрастных пассажиров, что в принципе кореллирует с тем, что мужчин на лайнере было больше."
      ]
    },
    {
      "cell_type": "markdown",
      "metadata": {
        "id": "ye6WohwXuJ41"
      },
      "source": [
        "**Task 3** (1 points) <br/>\n",
        "Find all the titles of the passengers (example, *Capt., Mr.,Mme.*), which are written in the column Name, and answer the following questions:\n",
        "\n",
        "    * How many are there unique titles?\n",
        "    * How many are there passengers with every title?\n",
        "    * What is the most popular man's title? And woman's title?\n",
        "    \n",
        "**Hint** You may select the title from the name as a word which contains a dot and is not middle name."
      ]
    },
    {
      "cell_type": "markdown",
      "metadata": {
        "id": "QpyoCtUG3kTg"
      },
      "source": [
        "## How many are there unique titles?"
      ]
    },
    {
      "cell_type": "code",
      "execution_count": 98,
      "metadata": {
        "colab": {
          "base_uri": "https://localhost:8080/"
        },
        "id": "LDBIRnGXuJ41",
        "outputId": "a85683e4-7913-4863-bb71-5ee50fd00364"
      },
      "outputs": [
        {
          "name": "stdout",
          "output_type": "stream",
          "text": [
            "17\n",
            "['Mr' 'Mrs' 'Miss' 'Master' 'Don' 'Rev' 'Dr' 'Mme' 'Ms' 'Major' 'Lady'\n",
            " 'Sir' 'Mlle' 'Col' 'Capt' 'the Countess' 'Jonkheer']\n"
          ]
        }
      ],
      "source": [
        "import re\n",
        "# Данный кусок кода я сделал с chatGPT, меня немного смущают некоторые префиксы, но надеюсь это нормально :(\n",
        "title_pattern = r',\\s(.*?)\\.'\n",
        "dataset['Title'] = dataset['Name'].apply(lambda x: re.search(title_pattern, x).group(1))\n",
        "unique_title_count = dataset['Title'].nunique()\n",
        "print(unique_title_count)\n",
        "print(dataset['Title'].unique()) # Выведем эти префиксы"
      ]
    },
    {
      "cell_type": "markdown",
      "metadata": {
        "id": "akZyDKYs6GEG"
      },
      "source": [
        "**Всего 17 уникальных префиксов**"
      ]
    },
    {
      "cell_type": "markdown",
      "metadata": {
        "id": "4Pjj68b76KAd"
      },
      "source": [
        "## How many are there passengers with every title?"
      ]
    },
    {
      "cell_type": "code",
      "execution_count": 99,
      "metadata": {
        "colab": {
          "base_uri": "https://localhost:8080/"
        },
        "id": "_eY9AME16K3J",
        "outputId": "1ed89cc1-c4e1-484f-e168-2c66dcc4db67"
      },
      "outputs": [
        {
          "data": {
            "text/plain": [
              "Mr              517\n",
              "Miss            182\n",
              "Mrs             125\n",
              "Master           40\n",
              "Dr                7\n",
              "Rev               6\n",
              "Mlle              2\n",
              "Major             2\n",
              "Col               2\n",
              "the Countess      1\n",
              "Capt              1\n",
              "Ms                1\n",
              "Sir               1\n",
              "Lady              1\n",
              "Mme               1\n",
              "Don               1\n",
              "Jonkheer          1\n",
              "Name: Title, dtype: int64"
            ]
          },
          "execution_count": 99,
          "metadata": {},
          "output_type": "execute_result"
        }
      ],
      "source": [
        "passangers_with_each_title = dataset['Title'].value_counts()\n",
        "passangers_with_each_title"
      ]
    },
    {
      "cell_type": "markdown",
      "metadata": {
        "id": "IVCzBYDK6gps"
      },
      "source": [
        "**Здесь видно, сколько пассажиров имеют каждый из уникальных префиксов**\n",
        "## What is the most popular man's title? And woman's title?"
      ]
    },
    {
      "cell_type": "code",
      "execution_count": 100,
      "metadata": {
        "colab": {
          "base_uri": "https://localhost:8080/"
        },
        "id": "kkXvviPe6s_6",
        "outputId": "1c1964bb-449b-493e-e70d-73976cf477f9"
      },
      "outputs": [
        {
          "name": "stdout",
          "output_type": "stream",
          "text": [
            "Mr Miss\n"
          ]
        }
      ],
      "source": [
        "man_titles = dataset[dataset['Sex'] == 'male']['Title']\n",
        "woman_titles = dataset[dataset['Sex'] == 'female']['Title']\n",
        "\n",
        "most_popular_man_title = man_titles.mode().values[0]\n",
        "most_popular_woman_title = woman_titles.mode().values[0]\n",
        "print(most_popular_man_title, most_popular_woman_title)"
      ]
    },
    {
      "cell_type": "markdown",
      "metadata": {
        "id": "j3ORvk-865-x"
      },
      "source": [
        "**Самый популярные префиксы: Mr для мужчин и Miss для женщин.**"
      ]
    },
    {
      "cell_type": "markdown",
      "metadata": {
        "id": "n0RsqbTPuJ41"
      },
      "source": [
        "**Task 4** (0.5 points) <br/>\n",
        "Is there correlation between *pclass* and *ticket price*? Calculate mean price for each class and visualize price distribution for each class as well. Make conclusions about what you see on the plot\n",
        "\n",
        "Hint: you could make one or several plot types i.e.  box, violine, pair, histogram (see additional notebooks for Seminar 1 \"Visualization with Seaborn\"). Main point here is to **choose** plots wisely and **make meaningful conclusions**\n",
        "\n"
      ]
    },
    {
      "cell_type": "code",
      "execution_count": 103,
      "metadata": {
        "colab": {
          "base_uri": "https://localhost:8080/",
          "height": 649
        },
        "id": "fkvVvnHPuJ41",
        "outputId": "4d099c59-8907-4efc-e85a-708feeecc5f3"
      },
      "outputs": [
        {
          "data": {
            "image/png": "[encoded data removed]",
            "text/plain": [
              "<Figure size 1000x600 with 1 Axes>"
            ]
          },
          "metadata": {},
          "output_type": "display_data"
        },
        {
          "name": "stdout",
          "output_type": "stream",
          "text": [
            "Средняя цена на билет в зависимости от класса\n",
            "   Pclass       Fare\n",
            "0       1  84.154687\n",
            "1       2  20.662183\n",
            "2       3  13.675550\n"
          ]
        }
      ],
      "source": [
        "mean_price_by_class = dataset.groupby('Pclass')['Fare'].mean().reset_index()\n",
        "\n",
        "\n",
        "plt.figure(figsize=(10, 6))\n",
        "sns.boxplot(x='Pclass', y='Fare', data=dataset, palette='Set3')\n",
        "plt.title('Распределение цены на билет в зависимости от класса')\n",
        "plt.xlabel('Класс пассажира')\n",
        "plt.ylabel('Цена на билет')\n",
        "plt.show()\n",
        "\n",
        "print(\"Средняя цена на билет в зависимости от класса\")\n",
        "print(mean_price_by_class)"
      ]
    },
    {
      "cell_type": "markdown",
      "metadata": {
        "id": "ZZlcQk7y7-xW"
      },
      "source": [
        "**Судя по графику, можно сделать вывод, что корреляция между классом пассажира и ценой на билет присутствует, так как чем выше класс(в данном случае первый класс - самый лучший), тем выше цены на билеты и средняя цена, соответственно, тоже.**"
      ]
    }
  ],
  "metadata": {
    "colab": {
      "provenance": []
    },
    "kernelspec": {
      "display_name": "Python 3 (ipykernel)",
      "language": "python",
      "name": "python3"
    },
    "language_info": {
      "codemirror_mode": {
        "name": "ipython",
        "version": 3
      },
      "file_extension": ".py",
      "mimetype": "text/x-python",
      "name": "python",
      "nbconvert_exporter": "python",
      "pygments_lexer": "ipython3",
      "version": "3.9.7"
    }
  },
  "nbformat": 4,
  "nbformat_minor": 0
}
